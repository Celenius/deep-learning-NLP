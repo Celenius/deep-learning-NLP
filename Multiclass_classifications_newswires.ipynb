{
  "nbformat": 4,
  "nbformat_minor": 0,
  "metadata": {
    "colab": {
      "name": "Multiclass classifications newswires.ipynb",
      "provenance": [],
      "collapsed_sections": []
    },
    "kernelspec": {
      "name": "python3",
      "display_name": "Python 3"
    },
    "language_info": {
      "name": "python"
    },
    "accelerator": "GPU"
  },
  "cells": [
    {
      "cell_type": "code",
      "metadata": {
        "id": "n1qZFBAQZxIu"
      },
      "source": [
        "from keras.datasets import reuters\n",
        "import numpy as np\n",
        "import matplotlib.pyplot as plt"
      ],
      "execution_count": null,
      "outputs": []
    },
    {
      "cell_type": "code",
      "metadata": {
        "colab": {
          "base_uri": "https://localhost:8080/"
        },
        "id": "qFm2XP1UaWv_",
        "outputId": "bd93c570-a7b5-4d9e-8c48-820bc31f59fd"
      },
      "source": [
        "(train_data, train_labels), (test_data, test_labels) = reuters.load_data(num_words=10000)"
      ],
      "execution_count": null,
      "outputs": [
        {
          "output_type": "stream",
          "text": [
            "Downloading data from https://storage.googleapis.com/tensorflow/tf-keras-datasets/reuters.npz\n",
            "2113536/2110848 [==============================] - 0s 0us/step\n"
          ],
          "name": "stdout"
        },
        {
          "output_type": "stream",
          "text": [
            "/usr/local/lib/python3.7/dist-packages/tensorflow/python/keras/datasets/reuters.py:148: VisibleDeprecationWarning: Creating an ndarray from ragged nested sequences (which is a list-or-tuple of lists-or-tuples-or ndarrays with different lengths or shapes) is deprecated. If you meant to do this, you must specify 'dtype=object' when creating the ndarray\n",
            "  x_train, y_train = np.array(xs[:idx]), np.array(labels[:idx])\n",
            "/usr/local/lib/python3.7/dist-packages/tensorflow/python/keras/datasets/reuters.py:149: VisibleDeprecationWarning: Creating an ndarray from ragged nested sequences (which is a list-or-tuple of lists-or-tuples-or ndarrays with different lengths or shapes) is deprecated. If you meant to do this, you must specify 'dtype=object' when creating the ndarray\n",
            "  x_test, y_test = np.array(xs[idx:]), np.array(labels[idx:])\n"
          ],
          "name": "stderr"
        }
      ]
    },
    {
      "cell_type": "code",
      "metadata": {
        "colab": {
          "base_uri": "https://localhost:8080/"
        },
        "id": "fM6tr-Etav7A",
        "outputId": "9977b1c4-1c67-46c7-a76a-d7f6f74e0799"
      },
      "source": [
        "word_index = reuters.get_word_index()\n",
        "reverse_word_index = dict([(value, key) for (key, value) in word_index.items()])\n",
        "decoded_review = ' '.join([reverse_word_index.get(i - 3, '?') for i in train_data[0]])"
      ],
      "execution_count": null,
      "outputs": [
        {
          "output_type": "stream",
          "text": [
            "Downloading data from https://storage.googleapis.com/tensorflow/tf-keras-datasets/reuters_word_index.json\n",
            "557056/550378 [==============================] - 0s 0us/step\n"
          ],
          "name": "stdout"
        }
      ]
    },
    {
      "cell_type": "code",
      "metadata": {
        "id": "azad4Bo6bC05"
      },
      "source": [
        "# Define a One-hot vector of 10 000 dimensions that put 0 if the words doesn't exist in the sequence or 1 if it does exist\n",
        "def vectorize_sequence(sequences, dimension=10000):\n",
        "  results = np.zeros((len(sequences), dimension)) # Setting the 10 000 vector full of zero\n",
        "  for i, sequence in enumerate(sequences):\n",
        "    results[i, sequence] = 1 # Set 1 to specific indices of words\n",
        "  return results"
      ],
      "execution_count": null,
      "outputs": []
    },
    {
      "cell_type": "code",
      "metadata": {
        "id": "ImAgS9zvbST8"
      },
      "source": [
        "x_train = vectorize_sequence(train_data)\n",
        "x_test = vectorize_sequence(test_data)\n",
        "\n",
        "y_train = np.asarray(train_labels).astype('float32') \n",
        "y_test = np.asarray(test_labels).astype('float32') "
      ],
      "execution_count": null,
      "outputs": []
    },
    {
      "cell_type": "code",
      "metadata": {
        "id": "qzZc2eGFbcUn"
      },
      "source": [
        "from keras.utils.np_utils import to_categorical\n",
        "\n",
        "one_hot_train_labels = to_categorical(train_labels)\n",
        "one_hot_test_labels = to_categorical(test_labels)"
      ],
      "execution_count": null,
      "outputs": []
    },
    {
      "cell_type": "code",
      "metadata": {
        "colab": {
          "base_uri": "https://localhost:8080/"
        },
        "id": "fyvvdd7XcCgF",
        "outputId": "8e99156d-2e00-4362-8921-0710fd31ba8d"
      },
      "source": [
        "one_hot_test_labels"
      ],
      "execution_count": null,
      "outputs": [
        {
          "output_type": "execute_result",
          "data": {
            "text/plain": [
              "array([[0., 0., 0., ..., 0., 0., 0.],\n",
              "       [0., 0., 0., ..., 0., 0., 0.],\n",
              "       [0., 1., 0., ..., 0., 0., 0.],\n",
              "       ...,\n",
              "       [0., 0., 0., ..., 0., 0., 0.],\n",
              "       [0., 0., 0., ..., 0., 0., 0.],\n",
              "       [0., 0., 0., ..., 0., 0., 0.]], dtype=float32)"
            ]
          },
          "metadata": {
            "tags": []
          },
          "execution_count": 7
        }
      ]
    },
    {
      "cell_type": "code",
      "metadata": {
        "id": "VzPhRaFvcGYt"
      },
      "source": [
        "from keras import models\n",
        "from keras import layers"
      ],
      "execution_count": null,
      "outputs": []
    },
    {
      "cell_type": "code",
      "metadata": {
        "id": "S67TLjz9ctng"
      },
      "source": [
        "model = models.Sequential(\n",
        "    [\n",
        "     layers.Dense(64, activation='relu', input_shape=(10000,)),\n",
        "     layers.Dense(64, activation='relu'),\n",
        "     layers.Dense(46, activation='softmax')\n",
        "    ]\n",
        ")\n",
        "\n",
        "model.compile(optimizer='rmsprop', loss='categorical_crossentropy', metrics=['accuracy'])"
      ],
      "execution_count": null,
      "outputs": []
    },
    {
      "cell_type": "code",
      "metadata": {
        "id": "zoFSNWeFdH2Q"
      },
      "source": [
        "x_val = x_train[:1000]\n",
        "partial_x_train = x_train[1000:]\n",
        "\n",
        "y_val = one_hot_train_labels[:1000]\n",
        "partial_y_train = one_hot_train_labels[1000:]"
      ],
      "execution_count": null,
      "outputs": []
    },
    {
      "cell_type": "code",
      "metadata": {
        "colab": {
          "base_uri": "https://localhost:8080/"
        },
        "id": "VKQMl21leNBK",
        "outputId": "ffa42fc5-3964-4e9b-9eb0-5dcf5f023a31"
      },
      "source": [
        "history = model.fit(partial_x_train, partial_y_train, epochs=20, batch_size=512, validation_data=(x_val, y_val))"
      ],
      "execution_count": null,
      "outputs": [
        {
          "output_type": "stream",
          "text": [
            "Epoch 1/20\n",
            "16/16 [==============================] - 2s 66ms/step - loss: 3.0750 - accuracy: 0.4315 - val_loss: 1.6894 - val_accuracy: 0.6480\n",
            "Epoch 2/20\n",
            "16/16 [==============================] - 1s 51ms/step - loss: 1.4568 - accuracy: 0.6977 - val_loss: 1.2794 - val_accuracy: 0.7220\n",
            "Epoch 3/20\n",
            "16/16 [==============================] - 1s 48ms/step - loss: 1.0533 - accuracy: 0.7776 - val_loss: 1.0991 - val_accuracy: 0.7600\n",
            "Epoch 4/20\n",
            "16/16 [==============================] - 1s 49ms/step - loss: 0.7878 - accuracy: 0.8338 - val_loss: 1.0108 - val_accuracy: 0.7950\n",
            "Epoch 5/20\n",
            "16/16 [==============================] - 1s 48ms/step - loss: 0.6554 - accuracy: 0.8626 - val_loss: 0.9471 - val_accuracy: 0.7990\n",
            "Epoch 6/20\n",
            "16/16 [==============================] - 1s 50ms/step - loss: 0.5094 - accuracy: 0.8882 - val_loss: 0.9328 - val_accuracy: 0.8090\n",
            "Epoch 7/20\n",
            "16/16 [==============================] - 1s 49ms/step - loss: 0.4195 - accuracy: 0.9112 - val_loss: 0.8922 - val_accuracy: 0.8210\n",
            "Epoch 8/20\n",
            "16/16 [==============================] - 1s 49ms/step - loss: 0.3271 - accuracy: 0.9284 - val_loss: 0.9089 - val_accuracy: 0.8200\n",
            "Epoch 9/20\n",
            "16/16 [==============================] - 1s 48ms/step - loss: 0.2737 - accuracy: 0.9434 - val_loss: 0.9184 - val_accuracy: 0.8040\n",
            "Epoch 10/20\n",
            "16/16 [==============================] - 1s 49ms/step - loss: 0.2176 - accuracy: 0.9517 - val_loss: 0.9470 - val_accuracy: 0.8160\n",
            "Epoch 11/20\n",
            "16/16 [==============================] - 1s 50ms/step - loss: 0.1877 - accuracy: 0.9554 - val_loss: 0.9234 - val_accuracy: 0.8160\n",
            "Epoch 12/20\n",
            "16/16 [==============================] - 1s 49ms/step - loss: 0.1637 - accuracy: 0.9571 - val_loss: 1.0247 - val_accuracy: 0.8040\n",
            "Epoch 13/20\n",
            "16/16 [==============================] - 1s 49ms/step - loss: 0.1543 - accuracy: 0.9581 - val_loss: 0.9653 - val_accuracy: 0.8130\n",
            "Epoch 14/20\n",
            "16/16 [==============================] - 1s 48ms/step - loss: 0.1413 - accuracy: 0.9592 - val_loss: 0.9821 - val_accuracy: 0.8150\n",
            "Epoch 15/20\n",
            "16/16 [==============================] - 1s 48ms/step - loss: 0.1282 - accuracy: 0.9572 - val_loss: 0.9997 - val_accuracy: 0.8150\n",
            "Epoch 16/20\n",
            "16/16 [==============================] - 1s 48ms/step - loss: 0.1216 - accuracy: 0.9588 - val_loss: 1.0758 - val_accuracy: 0.8080\n",
            "Epoch 17/20\n",
            "16/16 [==============================] - 1s 50ms/step - loss: 0.1088 - accuracy: 0.9613 - val_loss: 1.0149 - val_accuracy: 0.8100\n",
            "Epoch 18/20\n",
            "16/16 [==============================] - 1s 48ms/step - loss: 0.1079 - accuracy: 0.9603 - val_loss: 1.1019 - val_accuracy: 0.8030\n",
            "Epoch 19/20\n",
            "16/16 [==============================] - 1s 50ms/step - loss: 0.0937 - accuracy: 0.9644 - val_loss: 1.1430 - val_accuracy: 0.8040\n",
            "Epoch 20/20\n",
            "16/16 [==============================] - 1s 47ms/step - loss: 0.0996 - accuracy: 0.9635 - val_loss: 1.0822 - val_accuracy: 0.8040\n"
          ],
          "name": "stdout"
        }
      ]
    },
    {
      "cell_type": "code",
      "metadata": {
        "colab": {
          "base_uri": "https://localhost:8080/",
          "height": 279
        },
        "id": "wonYBaXHfgKW",
        "outputId": "4a976910-3ba6-440f-8341-430d72af89f2"
      },
      "source": [
        "loss = history.history['loss']\n",
        "val_loss = history.history['val_loss']\n",
        "\n",
        "epochs = range(1, len(loss) + 1)\n",
        "\n",
        "plt.plot(epochs, loss, 'bo', label='training loss')\n",
        "plt.plot(epochs, val_loss, 'b', label='Validation loss')\n",
        "plt.xlabel(\"Epochs\")\n",
        "plt.ylabel(\"Loss\")\n",
        "plt.legend()\n",
        "plt.show()"
      ],
      "execution_count": null,
      "outputs": [
        {
          "output_type": "display_data",
          "data": {
            "image/png": "[encoded data removed]",
            "text/plain": [
              "<Figure size 432x288 with 1 Axes>"
            ]
          },
          "metadata": {
            "tags": [],
            "needs_background": "light"
          }
        }
      ]
    },
    {
      "cell_type": "code",
      "metadata": {
        "colab": {
          "base_uri": "https://localhost:8080/",
          "height": 279
        },
        "id": "RnHX6DMMgcdj",
        "outputId": "90e4d605-b582-4895-b9c0-426330ac239f"
      },
      "source": [
        "acc = history.history['accuracy']\n",
        "val_acc = history.history['val_accuracy']\n",
        "\n",
        "epochs = range(1, len(acc) + 1)\n",
        "\n",
        "plt.plot(epochs, acc, 'bo', label='training accuracy')\n",
        "plt.plot(epochs, val_acc, 'b', label='Validation accuracy')\n",
        "plt.xlabel(\"Epochs\")\n",
        "plt.ylabel(\"Accuracy\")\n",
        "plt.legend()\n",
        "plt.show()"
      ],
      "execution_count": null,
      "outputs": [
        {
          "output_type": "display_data",
          "data": {
            "image/png": "[encoded data removed]",
            "text/plain": [
              "<Figure size 432x288 with 1 Axes>"
            ]
          },
          "metadata": {
            "tags": [],
            "needs_background": "light"
          }
        }
      ]
    },
    {
      "cell_type": "code",
      "metadata": {
        "colab": {
          "base_uri": "https://localhost:8080/"
        },
        "id": "iV9aCQCVhYeu",
        "outputId": "d98d8225-ddd0-48eb-ee0b-07de4bfd43fa"
      },
      "source": [
        "results = model.evaluate(x_test, one_hot_test_labels)\n",
        "results"
      ],
      "execution_count": null,
      "outputs": [
        {
          "output_type": "stream",
          "text": [
            "71/71 [==============================] - 0s 3ms/step - loss: 1.2092 - accuracy: 0.7894\n"
          ],
          "name": "stdout"
        },
        {
          "output_type": "execute_result",
          "data": {
            "text/plain": [
              "[1.2092487812042236, 0.7894033789634705]"
            ]
          },
          "metadata": {
            "tags": []
          },
          "execution_count": 33
        }
      ]
    },
    {
      "cell_type": "code",
      "metadata": {
        "colab": {
          "base_uri": "https://localhost:8080/"
        },
        "id": "QSHwduJThjqy",
        "outputId": "b7c22deb-4f8a-4427-e269-402ce298b7cc"
      },
      "source": [
        "predictions = model.predict(x_test)\n",
        "predictions"
      ],
      "execution_count": null,
      "outputs": [
        {
          "output_type": "execute_result",
          "data": {
            "text/plain": [
              "array([[1.5461914e-06, 2.6247915e-07, 4.7627996e-08, ..., 3.0731130e-08,\n",
              "        5.3089688e-09, 7.2890711e-09],\n",
              "       [2.0099139e-04, 7.5662844e-02, 9.7045461e-03, ..., 5.7591178e-06,\n",
              "        7.0907491e-10, 5.9203503e-05],\n",
              "       [4.6915796e-02, 1.3116910e-01, 1.4367183e-02, ..., 4.5685880e-04,\n",
              "        2.6211998e-04, 2.0899659e-05],\n",
              "       ...,\n",
              "       [7.9783490e-07, 1.6834925e-06, 2.9521132e-07, ..., 7.0493641e-08,\n",
              "        3.4241910e-07, 2.7689500e-08],\n",
              "       [7.0098387e-03, 5.0219335e-02, 6.2883599e-03, ..., 7.3810763e-05,\n",
              "        2.4994946e-04, 6.3598185e-04],\n",
              "       [1.4699097e-03, 3.7872198e-01, 1.7868705e-02, ..., 8.8183851e-06,\n",
              "        4.9954124e-05, 8.5327219e-06]], dtype=float32)"
            ]
          },
          "metadata": {
            "tags": []
          },
          "execution_count": 35
        }
      ]
    },
    {
      "cell_type": "code",
      "metadata": {
        "colab": {
          "base_uri": "https://localhost:8080/"
        },
        "id": "sgtlgvthh6Ev",
        "outputId": "a6294851-7200-4fa0-fa0f-edde2b5b2663"
      },
      "source": [
        "np.argmax(predictions[0])"
      ],
      "execution_count": null,
      "outputs": [
        {
          "output_type": "execute_result",
          "data": {
            "text/plain": [
              "3"
            ]
          },
          "metadata": {
            "tags": []
          },
          "execution_count": 38
        }
      ]
    },
    {
      "cell_type": "code",
      "metadata": {
        "colab": {
          "base_uri": "https://localhost:8080/",
          "height": 632
        },
        "id": "l4JsOlZ7l2Iq",
        "outputId": "1152530e-746c-4b8d-f4c8-92ac703882e9"
      },
      "source": [
        "# Testing different model architectures\n",
        "model = models.Sequential(\n",
        "    [\n",
        "     layers.Dense(128, activation='relu', input_shape=(10000,)),\n",
        "     layers.Dense(46, activation='softmax')\n",
        "    ]\n",
        ")\n",
        "\n",
        "model.compile(optimizer='rmsprop', loss='categorical_crossentropy', metrics=['accuracy'])\n",
        "history = model.fit(partial_x_train, partial_y_train, epochs=10, batch_size=512, validation_data=(x_val, y_val))\n",
        "model.evaluate(x_test, one_hot_test_labels)\n",
        "\n",
        "acc = history.history['accuracy']\n",
        "val_acc = history.history['val_accuracy']\n",
        "\n",
        "epochs = range(1, len(acc) + 1)\n",
        "\n",
        "plt.plot(epochs, acc, 'bo', label='training accuracy')\n",
        "plt.plot(epochs, val_acc, 'b', label='Validation accuracy')\n",
        "plt.xlabel(\"Epochs\")\n",
        "plt.ylabel(\"Accuracy\")\n",
        "plt.legend()\n",
        "plt.show()"
      ],
      "execution_count": null,
      "outputs": [
        {
          "output_type": "stream",
          "text": [
            "Epoch 1/10\n",
            "16/16 [==============================] - 2s 88ms/step - loss: 2.8349 - accuracy: 0.4720 - val_loss: 1.5022 - val_accuracy: 0.6970\n",
            "Epoch 2/10\n",
            "16/16 [==============================] - 1s 76ms/step - loss: 1.2248 - accuracy: 0.7589 - val_loss: 1.1265 - val_accuracy: 0.7810\n",
            "Epoch 3/10\n",
            "16/16 [==============================] - 1s 76ms/step - loss: 0.8218 - accuracy: 0.8428 - val_loss: 0.9641 - val_accuracy: 0.8060\n",
            "Epoch 4/10\n",
            "16/16 [==============================] - 1s 75ms/step - loss: 0.6124 - accuracy: 0.8770 - val_loss: 0.8929 - val_accuracy: 0.8050\n",
            "Epoch 5/10\n",
            "16/16 [==============================] - 1s 75ms/step - loss: 0.4445 - accuracy: 0.9142 - val_loss: 0.8686 - val_accuracy: 0.8150\n",
            "Epoch 6/10\n",
            "16/16 [==============================] - 1s 75ms/step - loss: 0.3460 - accuracy: 0.9304 - val_loss: 0.8426 - val_accuracy: 0.8130\n",
            "Epoch 7/10\n",
            "16/16 [==============================] - 1s 78ms/step - loss: 0.2807 - accuracy: 0.9442 - val_loss: 0.8162 - val_accuracy: 0.8260\n",
            "Epoch 8/10\n",
            "16/16 [==============================] - 1s 77ms/step - loss: 0.2175 - accuracy: 0.9536 - val_loss: 0.8237 - val_accuracy: 0.8260\n",
            "Epoch 9/10\n",
            "16/16 [==============================] - 1s 76ms/step - loss: 0.1943 - accuracy: 0.9539 - val_loss: 0.8472 - val_accuracy: 0.8230\n",
            "Epoch 10/10\n",
            "16/16 [==============================] - 1s 75ms/step - loss: 0.1677 - accuracy: 0.9560 - val_loss: 0.8459 - val_accuracy: 0.8180\n",
            "71/71 [==============================] - 0s 4ms/step - loss: 0.9507 - accuracy: 0.7992\n"
          ],
          "name": "stdout"
        },
        {
          "output_type": "display_data",
          "data": {
            "image/png": "[encoded data removed]",
            "text/plain": [
              "<Figure size 432x288 with 1 Axes>"
            ]
          },
          "metadata": {
            "tags": [],
            "needs_background": "light"
          }
        }
      ]
    }
  ]
}